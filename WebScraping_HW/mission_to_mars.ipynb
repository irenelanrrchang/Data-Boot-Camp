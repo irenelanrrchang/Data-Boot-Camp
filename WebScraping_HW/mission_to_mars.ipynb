{
 "cells": [
  {
   "cell_type": "markdown",
   "metadata": {},
   "source": [
    "# Step 1 - Scraping\n",
    "\n",
    "Complete your initial scraping using Jupyter Notebook, BeautifulSoup, Pandas, and Requests/Splinter.\n",
    "\n",
    "\n",
    "Create a Jupyter Notebook file called mission_to_mars.ipynb and use this to complete all of your scraping and analysis tasks. The following outlines what you need to scrape.\n",
    "\n",
    "\n",
    "\n",
    "## NASA Mars News\n",
    "\n",
    "\n",
    "Scrape the NASA Mars News Site and collect the latest News Title and Paragragh Text. Assign the text to variables that you can reference later.\n",
    "\n",
    "JPL Mars Space Images - Featured Image\n",
    "\n",
    "\n",
    "Visit the url for JPL's Featured Space Image here.\n",
    "Use splinter to navigate the site and find the image url for the current Featured Mars Image and assign the url string to a variable called featured_image_url.\n",
    "Make sure to find the image url to the full size .jpg image.\n",
    "Make sure to save a complete url string for this image.\n",
    "\n",
    "## Mars Weather\n",
    "\n",
    "\n",
    "Visit the Mars Weather twitter account here and scrape the latest Mars weather tweet from the page. Save the tweet text for the weather report as a variable called mars_weather.\n",
    "\n",
    "\n",
    "## Mars Facts\n",
    "\n",
    "\n",
    "Visit the Mars Facts webpage here and use Pandas to scrape the table containing facts about the planet including Diameter, Mass, etc.\n",
    "Use Pandas to convert the data to a HTML table string.\n",
    "\n",
    "\n",
    "\n",
    "## Mars Hemisperes\n",
    "\n",
    "\n",
    "Visit the USGS Astrogeology site here to obtain high resolution images for each of Mar's hemispheres.\n",
    "You will need to click each of the links to the hemispheres in order to find the image url to the full resolution image.\n",
    "Save both the image url string for the full resolution hemipshere image, and the Hemisphere title containing the hemisphere name. Use a Python dictionary to store the data using the keys img_url and title.\n",
    "Append the dictionary with the image url string and the hemisphere title to a list. This list will contain one dictionary for each hemisphere."
   ]
  },
  {
   "cell_type": "code",
   "execution_count": 1,
   "metadata": {
    "collapsed": true
   },
   "outputs": [],
   "source": [
    "# https://splinter.readthedocs.io/en/latest/drivers/chrome.html\n",
    "from splinter import Browser\n",
    "from bs4 import BeautifulSoup\n",
    "import pandas as pd\n",
    "import time"
   ]
  },
  {
   "cell_type": "code",
   "execution_count": 2,
   "metadata": {
    "collapsed": true
   },
   "outputs": [],
   "source": [
    "# Mars NEWs\n",
    "executable_path = {'executable_path': '/usr/local/bin/chromedriver'}\n",
    "browser = Browser('chrome', **executable_path, headless=False)\n",
    "url = 'https://mars.nasa.gov/news/?page=0&per_page=40&order=publish_date+desc%2Ccreated_at+desc&search=&category=19%2C165%2C184%2C204&blank_scope=Latest'\n",
    "browser.visit(url)"
   ]
  },
  {
   "cell_type": "code",
   "execution_count": 3,
   "metadata": {},
   "outputs": [
    {
     "name": "stdout",
     "output_type": "stream",
     "text": [
      "-----------\n",
      "NASA’s First Mission to Study the Interior of Mars Awaits May 5 Launch\n",
      "...........\n",
      "All systems are go for NASA’s next launch to the Red Planet. \n",
      "https://mars.nasa.gov//news/8332/nasas-first-mission-to-study-the-interior-of-mars-awaits-may-5-launch/\n",
      "-----------\n",
      "Vice President Pence Visits JPL, Previews NASA’s Next Mars Mission Launch\n",
      "...........\n",
      "A week before NASA's next Mars launch, Vice President Mike Pence toured the birthplace of the InSight Mars Lander and numerous other past, present and future space missions.\n",
      "https://mars.nasa.gov//news/8331/vice-president-pence-visits-jpl-previews-nasas-next-mars-mission-launch/\n",
      "-----------\n",
      "NASA Sets Sights on May 5 Launch of InSight to Mars\n",
      "...........\n",
      "NASA’s next mission to Mars, InSight, is scheduled to launch Saturday, May 5, on a first-ever mission to study the heart of the Red Planet.\n",
      "https://mars.nasa.gov//news/8330/nasa-sets-sights-on-may-5-launch-of-insight-to-mars/\n",
      "-----------\n",
      "Results of Heat Shield Testing\n",
      "...........\n",
      "A post-test inspection of the composite structure for a heat shield to be used on the Mars 2020 mission revealed that a fracture occurred during structural testing.\n",
      "https://mars.nasa.gov//news/8329/results-of-heat-shield-testing/\n",
      "-----------\n",
      "NASA Engineers Dream Big with Small Spacecraft\n",
      "...........\n",
      "The first CubeSat mission to deep space will launch in May.\n",
      "https://mars.nasa.gov//news/8328/nasa-engineers-dream-big-with-small-spacecraft/\n",
      "-----------\n",
      "Bound for Mars: Countdown to First Interplanetary Launch from California\n",
      "...........\n",
      "On May 5, millions of Californians may witness the historic first interplanetary launch from America’s West Coast.\n",
      "https://mars.nasa.gov//news/8327/bound-for-mars-countdown-to-first-interplanetary-launch-from-california/\n",
      "-----------\n",
      "NASA Invests in Visionary Technology \n",
      "...........\n",
      "NASA is investing in technology concepts, including several from JPL, that may one day be used for future space exploration missions.\n",
      "https://mars.nasa.gov//news/8326/nasa-invests-in-visionary-technology/\n",
      "-----------\n",
      "NASA is Ready to Study the Heart of Mars\n",
      "...........\n",
      "NASA is about to go on a journey to study the center of Mars.\n",
      "https://mars.nasa.gov//news/8325/nasa-is-ready-to-study-the-heart-of-mars/\n",
      "-----------\n",
      "‘Marsquakes’ Could Shake Up Planetary Science\n",
      "...........\n",
      "InSight, the next mission to the Red Planet, will use seismology to see into the depths of Mars.\n",
      "https://mars.nasa.gov//news/8324/marsquakes-could-shake-up-planetary-science/\n",
      "-----------\n",
      "Mars Curiosity Celebrates Sol 2,000\n",
      "...........\n",
      "NASA's Mars Curiosity rover just hit a new milestone: its two-thousandth Martian day on the Red Planet. An image mosaic taken recently offers a preview of what comes next.\n",
      "https://mars.nasa.gov//news/8323/mars-curiosity-celebrates-sol-2000/\n",
      "-----------\n",
      "NASA Briefing on First Mission to Study Mars Interior\n",
      "...........\n",
      "NASA’s next mission to Mars will be the topic of a media briefing Thursday, March 29, at JPL. The briefing will air live on NASA Television and the agency’s website.\n",
      "https://mars.nasa.gov//news/8322/nasa-briefing-on-first-mission-to-study-mars-interior/\n",
      "-----------\n",
      "New 'AR' Mobile App Features 3-D NASA Spacecraft\n",
      "...........\n",
      "NASA spacecraft travel to far-off destinations in space, but a new mobile app produced by NASA's Jet Propulsion Laboratory, Pasadena, California, brings spacecraft to users.\n",
      "https://mars.nasa.gov//news/8321/new-ar-mobile-app-features-3-d-nasa-spacecraft/\n",
      "-----------\n",
      "NASA Mars Mission Tours California\n",
      "...........\n",
      "Scientists and engineers with NASA's next mission to Mars will be touring California cities starting this month.\n",
      "https://mars.nasa.gov//news/8319/nasa-mars-mission-tours-california/\n",
      "-----------\n",
      "Next NASA Mars Rover Reaches Key Manufacturing Milestone\n",
      "...........\n",
      "NASA's Mars 2020 mission has begun the assembly, test and launch operations (ATLO) phase of its development, on track for a July 2020 launch to Mars.\n",
      "https://mars.nasa.gov//news/8318/next-nasa-mars-rover-reaches-key-manufacturing-milestone/\n",
      "-----------\n",
      "Witness First Mars Launch from West Coast\n",
      "...........\n",
      "NASA invites digital creators to apply for social media credentials to cover the launch of the InSight mission to Mars, May 3-5, at California's Vandenberg Air Force Base.\n",
      "https://mars.nasa.gov//news/8317/witness-first-mars-launch-from-west-coast/\n",
      "-----------\n",
      "360 Video: Tour a Mars Robot Test Lab\n",
      "...........\n",
      "Engineers are practicing operations for NASA's Mars InSight lander, which is launching this spring.\n",
      "https://mars.nasa.gov//news/8316/360-video-tour-a-mars-robot-test-lab/\n",
      "-----------\n",
      "NASA InSight Mission to Mars Arrives at Launch Site\n",
      "...........\n",
      "NASA's InSight spacecraft has arrived at Vandenberg Air Force Base in central California to begin final preparations for a launch this May.\n",
      "https://mars.nasa.gov//news/8315/nasa-insight-mission-to-mars-arrives-at-launch-site/\n",
      "-----------\n",
      "Curiosity Tests a New Way to Drill on Mars\n",
      "...........\n",
      "NASA's Mars Curiosity rover has conducted the first test of a new drilling technique on the Red Planet since its drill stopped working reliably.     \n",
      "https://mars.nasa.gov//news/8314/curiosity-tests-a-new-way-to-drill-on-mars/\n",
      "-----------\n",
      "Seven Ways Mars InSight is Different\n",
      "...........\n",
      "NASA has a long and successful track record at Mars. Since 1965, it has flown by, orbited, landed and roved across the surface of the Red Planet. What can InSight -- planned for launch in May -- do that hasn’t been done before?\n",
      "https://mars.nasa.gov//news/8313/seven-ways-mars-insight-is-different/\n",
      "-----------\n",
      "Nearly a Decade After Mars Phoenix Landed, Another Look\n",
      "...........\n",
      "A recent view from Mars orbit of the site where NASA's Phoenix Mars mission landed on far-northern Mars nearly a decade ago captures changes.\n",
      "https://mars.nasa.gov//news/8312/nearly-a-decade-after-mars-phoenix-landed-another-look/\n",
      "-----------\n",
      "Spacecraft Exits Safe Mode\n",
      "...........\n",
      "Diagnostic work is the focus for resuming service and exiting safe standby status.\n",
      "https://mars.nasa.gov//news/8311/spacecraft-exits-safe-mode/\n",
      "-----------\n",
      "5,000 Days on Mars; Solar-Powered Rover Approaching 5,000th Martian Dawn\n",
      "...........\n",
      "The Sun will rise on NASA's solar-powered Mars rover Opportunity for the 5,000th time on Saturday, sending rays of energy to a robot that continues to provide revelations.\n",
      "https://mars.nasa.gov//news/8310/5000-days-on-mars-solar-powered-rover-approaching-5000th-martian-dawn/\n",
      "-----------\n",
      "Long-Lived Mars Rover Opportunity Keeps Finding Surprises\n",
      "...........\n",
      "NASA's Mars Exploration Rover Opportunity keeps providing surprises about the Red Planet, most recently with observations of possible \"rock stripes.\"\n",
      "https://mars.nasa.gov//news/8309/long-lived-mars-rover-opportunity-keeps-finding-surprises/\n",
      "-----------\n",
      "A Piece of Mars is Going Home\n",
      "...........\n",
      "When it launches in 2020, NASA's next Mars rover will carry a chunk of Martian meteorite on board.\n",
      "https://mars.nasa.gov//news/8308/a-piece-of-mars-is-going-home/\n",
      "-----------\n",
      "Mars Reconnaissance Orbiter Preparing for Years Ahead\n",
      "...........\n",
      "NASA's Mars Reconnaissance Orbiter (MRO) has begun extra stargazing to help the space agency accomplish advances in Mars exploration over the next decade.\n",
      "https://mars.nasa.gov//news/8307/mars-reconnaissance-orbiter-preparing-for-years-ahead/\n",
      "-----------\n",
      "Tiny Crystal Shapes Get Close Look From Mars Rover\n",
      "...........\n",
      "Star-shaped, tiny, dark bumps in the fine-layered bright bedrock of a Martian ridge are drawing close inspection by NASA's Curiosity Mars rover.\n",
      "https://mars.nasa.gov//news/8305/tiny-crystal-shapes-get-close-look-from-mars-rover/\n",
      "-----------\n",
      "NASA Tests Atomic Clock for Deep Space Navigation\n",
      "...........\n",
      "Project could help spacecraft keep time more efficiently and allow ground stations to better track multiple satellites at once near crowded areas like Mars.\n",
      "https://mars.nasa.gov//news/8304/nasa-tests-atomic-clock-for-deep-space-navigation/\n",
      "-----------\n",
      "Mount Sharp 'Photobombs' Mars Curiosity Rover\n",
      "...........\n",
      "A new self-portrait of NASA's Curiosity Mars rover shows the vehicle on Vera Rubin Ridge.\n",
      "https://mars.nasa.gov//news/8303/mount-sharp-photobombs-mars-curiosity-rover/\n",
      "-----------\n",
      "Vista From Mars Rover Looks Back Over Journey So Far\n",
      "...........\n",
      "A panoramic image that NASA's Curiosity Mars rover took from a mountainside ridge provides a sweeping vista of key sites visited since the rover's 2012 landing, and the towering surroundings.\n",
      "https://mars.nasa.gov//news/8302/vista-from-mars-rover-looks-back-over-journey-so-far/\n",
      "-----------\n",
      "NASA's Next Mars Lander Spreads its Solar Wings\n",
      "...........\n",
      "NASA's next mission to Mars passed a key test Tuesday, extending the solar arrays that will power the InSight spacecraft once it lands on the Red Planet this November.\n",
      "https://mars.nasa.gov//news/8301/nasas-next-mars-lander-spreads-its-solar-wings/\n",
      "-----------\n",
      "Dust Storms Linked to Gas Escape from Mars Atmosphere\n",
      "...........\n",
      "If Mars has a global dust storm in 2018, observations could aid understanding of its effects.\n",
      "https://mars.nasa.gov//news/8299/dust-storms-linked-to-gas-escape-from-mars-atmosphere/\n",
      "-----------\n",
      "Steep Slopes on Mars Reveal Structure of Buried Ice\n",
      "...........\n",
      "Researchers using NASA's Mars Reconnaissance Orbiter have found eight sites where thick deposits of ice beneath Mars' surface are exposed.\n",
      "https://mars.nasa.gov//news/8298/steep-slopes-on-mars-reveal-structure-of-buried-ice/\n",
      "-----------\n",
      "Mars Mission Sheds Light on Habitability of Distant Planets\n",
      "...........\n",
      "How long might a rocky, Mars-like planet be habitable if it were orbiting a red dwarf star?\n",
      "https://mars.nasa.gov//news/8292/mars-mission-sheds-light-on-habitability-of-distant-planets/\n",
      "-----------\n",
      "NASA Mars Rover Team's Tilted Winter Strategy Works\n",
      "...........\n",
      "NASA's senior Mars rover, Opportunity, has just passed the shortest-daylight weeks of the long Martian year with its solar panels in encouragingly clean condition for entering a potential dust-storm season in 2018.\r\n",
      "\r\n",
      "\n",
      "https://mars.nasa.gov//news/8291/nasa-mars-rover-teams-tilted-winter-strategy-works/\n",
      "-----------\n",
      "NASA Builds Its Next Mars Rover Mission\n",
      "...........\n",
      "In just a few years, NASA's next Mars rover mission will be flying to the Red Planet.\n",
      "https://mars.nasa.gov//news/8290/nasa-builds-its-next-mars-rover-mission/\n",
      "-----------\n",
      "Recurring Martian Streaks: Flowing Sand, Not Water?\n",
      "...........\n",
      "Seasonal dark streaks on Mars that previously were described as possible signs of flowing water have steep slopes that are better matches to dry flow processes...\n",
      "https://mars.nasa.gov//news/8289/recurring-martian-streaks-flowing-sand-not-water/\n",
      "-----------\n",
      "NASA's Mars 2020 Mission Performs First Supersonic Parachute Test\n",
      "...........\n",
      "A 58-foot-tall Black Brant IX sounding rocket launches from NASA's Wallops Flight Facility on Oct. 4. This was the first test of the Mars 2020 mission's parachute-testing series, the Advanced Supersonic Parachute Inflation Research Experiment, or ASPIRE.\n",
      "https://mars.nasa.gov//news/8288/nasas-mars-2020-mission-performs-first-supersonic-parachute-test/\n",
      "-----------\n",
      "More Than 2.4 Million Names Are Going to Mars\n",
      "...........\n",
      "Last month, NASA invited members of the public to send their names to Mars. And the public responded loud and clear.\n",
      "https://mars.nasa.gov//news/8287/more-than-24-million-names-are-going-to-mars/\n",
      "-----------\n",
      "Martian Ridge Brings Out Rover's Color Talents\n",
      "...........\n",
      "On a part of \"Vera Rubin Ridge\" where rover-team researchers sought to determine whether dust coatings are hiding rocks' hematite content, the Mast Camera (Mastcam) on NASA's Curiosity Mars rover took this image of a rock surface that had been brushed with the rover's Dust Removal Tool.\n",
      "https://mars.nasa.gov//news/8286/martian-ridge-brings-out-rovers-color-talents/\n",
      "-----------\n",
      "Next Mars Rover Will Have 23 'Eyes'\n",
      "...........\n",
      "When NASA's Mars Pathfinder touched down in 1997, it had five cameras: two on a mast that popped up from the lander, and three on NASA's first rover, Sojourner.\n",
      "https://mars.nasa.gov//news/8285/next-mars-rover-will-have-23-eyes/\n"
     ]
    }
   ],
   "source": [
    "# HTML object\n",
    "html = browser.html\n",
    "# Parse HTML with Beautiful Soup\n",
    "soup = BeautifulSoup(html, 'html.parser')\n",
    "# Retrieve all elements that contain book information\n",
    "articles = soup.find_all('div', class_='list_text')\n",
    "\n",
    "# Iterate through each news\n",
    "for article in articles:\n",
    "        \n",
    "        # Use Beautiful Soup's find() method to navigate and retrieve attributes\n",
    "        # Collect the latest News Title and Paragragh Text. Assign the text to variables that can be referenced\n",
    "        news_p = article.find ('div', class_='article_teaser_body').text\n",
    "    \n",
    "        link = article.find('a')\n",
    "        href = link['href']\n",
    "        news_title = link.text\n",
    "        print('-----------')\n",
    "        print(news_title)\n",
    "        print('...........')\n",
    "        print(news_p)\n",
    "        print('https://mars.nasa.gov/' + href)"
   ]
  },
  {
   "cell_type": "code",
   "execution_count": 4,
   "metadata": {
    "collapsed": true
   },
   "outputs": [],
   "source": [
    "# Use splinter to navigate JPL and find the image url for the current Featured Mars Image and assign the url string to a variable called featured_image_url \n",
    "executable_path = {'executable_path': '/usr/local/bin/chromedriver'}\n",
    "browser = Browser('chrome', **executable_path, headless=False)"
   ]
  },
  {
   "cell_type": "code",
   "execution_count": 5,
   "metadata": {
    "collapsed": true
   },
   "outputs": [],
   "source": [
    "url ='https://www.jpl.nasa.gov/spaceimages/?search=&category=Mars'\n",
    "browser.visit(url)"
   ]
  },
  {
   "cell_type": "code",
   "execution_count": 6,
   "metadata": {
    "collapsed": true
   },
   "outputs": [],
   "source": [
    "# browser.click_link_by_id('full image')\n",
    "browser.click_link_by_partial_text('FULL IMAGE')\n",
    "time.sleep(5)"
   ]
  },
  {
   "cell_type": "code",
   "execution_count": 7,
   "metadata": {
    "collapsed": true
   },
   "outputs": [],
   "source": [
    "browser.click_link_by_partial_text('more info')"
   ]
  },
  {
   "cell_type": "code",
   "execution_count": 8,
   "metadata": {
    "collapsed": true
   },
   "outputs": [],
   "source": [
    "link = browser.find_link_by_partial_href(\"/spaceimages/images/largesize/\")"
   ]
  },
  {
   "cell_type": "code",
   "execution_count": 9,
   "metadata": {},
   "outputs": [
    {
     "data": {
      "text/plain": [
       "'https://www.jpl.nasa.gov/spaceimages/images/largesize/PIA18904_hires.jpg'"
      ]
     },
     "execution_count": 9,
     "metadata": {},
     "output_type": "execute_result"
    }
   ],
   "source": [
    "featured_image_url = link[\"href\"]\n",
    "featured_image_url"
   ]
  },
  {
   "cell_type": "code",
   "execution_count": 10,
   "metadata": {
    "collapsed": true
   },
   "outputs": [],
   "source": [
    "# Mars Weather Twitter account\n",
    "executable_path = {'executable_path': '/usr/local/bin/chromedriver'}\n",
    "browser = Browser('chrome', **executable_path, headless=False)\n",
    "url = 'https://twitter.com/marswxreport'\n",
    "browser.visit(url)"
   ]
  },
  {
   "cell_type": "code",
   "execution_count": 11,
   "metadata": {
    "collapsed": true
   },
   "outputs": [],
   "source": [
    "# HTML object\n",
    "html = browser.html\n",
    "# Parse HTML with Beautiful Soup\n",
    "soup = BeautifulSoup(html, 'html.parser')"
   ]
  },
  {
   "cell_type": "code",
   "execution_count": 12,
   "metadata": {},
   "outputs": [
    {
     "name": "stdout",
     "output_type": "stream",
     "text": [
      "-----------\n",
      "Sol 2037 (April 30, 2018), Sunny, high -2C/28F, low -75C/-103F, pressure at 7.25 hPa, daylight 05:24-17:20\n",
      "-----------\n",
      "Sol 2036 (April 29, 2018), Sunny, high -5C/23F, low -72C/-97F, pressure at 7.28 hPa, daylight 05:24-17:20\n",
      "-----------\n",
      "Sol 2033 (April 25, 2018), Sunny, high -10C/14F, low -71C/-95F, pressure at 7.23 hPa, daylight 05:24-17:20\n",
      "-----------\n",
      "Sol 2030 (April 22, 2018), Sunny, high -4C/24F, low -73C/-99F, pressure at 7.21 hPa, daylight 05:25-17:21\n",
      "-----------\n",
      "Sol 2029 (April 21, 2018), Sunny, high -11C/12F, low -72C/-97F, pressure at 7.22 hPa, daylight 05:25-17:21\n",
      "-----------\n",
      "Sol 2026 (April 18, 2018), Sunny, high -6C/21F, low -73C/-99F, pressure at 7.19 hPa, daylight 05:26-17:21\n",
      "-----------\n",
      "Sol 2024 (April 16, 2018), Sunny, high -7C/19F, low -76C/-104F, pressure at 7.20 hPa, daylight 05:26-17:21\n",
      "-----------\n",
      "Sol 2022 (April 14, 2018), Sunny, high -4C/24F, low -73C/-99F, pressure at 7.19 hPa, daylight 05:27-17:21\n",
      "-----------\n",
      "Sol 2019 (April 11, 2018), Sunny, high -6C/21F, low -75C/-103F, pressure at 7.18 hPa, daylight 05:27-17:21\n",
      "-----------\n",
      "Sol 2017 (April 09, 2018), Sunny, high -6C/21F, low -75C/-103F, pressure at 7.17 hPa, daylight 05:28-17:21\n",
      "-----------\n",
      "Sol 2016 (April 08, 2018), Sunny, high -9C/15F, low -73C/-99F, pressure at 7.18 hPa, daylight 05:28-17:21\n",
      "-----------\n",
      " Meet Dr Sarah Milkovich (@milkysa), lead of Science Operations for Mars 2020 @NASAJPL. Milkovich was responsible for the MRO HiRISE  of the surface of Mars in 2012. New @Wikipedia page: https://en.wikipedia.org/wiki/Sarah_Milkovich … #womeninSTEMpic.twitter.com/Kqz4Bpc9e2\n",
      "-----------\n",
      "Sol 2012 (April 04, 2018), Sunny, high -7C/19F, low -74C/-101F, pressure at 7.15 hPa, daylight 05:29-17:22\n",
      "-----------\n",
      "Sol 2011 (April 03, 2018), Sunny, high -10C/14F, low -73C/-99F, pressure at 7.16 hPa, daylight 05:29-17:22\n",
      "-----------\n",
      "Sol 2009 (April 01, 2018), Sunny, high -9C/15F, low -74C/-101F, pressure at 7.17 hPa, daylight 05:30-17:22\n",
      "-----------\n",
      "Sol 2008 (March 31, 2018), Sunny, high -9C/15F, low -74C/-101F, pressure at 7.17 hPa, daylight 05:30-17:22\n",
      "-----------\n",
      "Narrowing of the forecast continues for #Tiangong1, now predicted to reenter sometime between Saturday 7:15 am and Sunday 11:15 pm EDT http://www.aerospace.org/cords/reentry-predictions/tiangong-1-reentry/ …pic.twitter.com/oAT0zjlauZ\n",
      "-----------\n",
      "Sol 2004 (March 27, 2018), Sunny, high -8C/17F, low -74C/-101F, pressure at 7.16 hPa, daylight 05:31-17:23\n",
      "-----------\n",
      "Sol 2003 (March 26, 2018), Sunny, high -6C/21F, low -74C/-101F, pressure at 7.16 hPa, daylight 05:31-17:23\n",
      "-----------\n",
      "Sol 2002 (March 25, 2018), Sunny, high -10C/14F, low -75C/-103F, pressure at 11.67 hPa, daylight 05:31-17:23\n"
     ]
    }
   ],
   "source": [
    "# Scrape the latest Mars weather tweet from the page. \n",
    "# Save the tweet text for the weather report as a variable called mars_weather.\n",
    "news = soup.find_all('div', class_= \"js-tweet-text-container\")\n",
    "for a_news in news:   \n",
    "    mars_weather = a_news.find('p', class_= \"TweetTextSize TweetTextSize--normal js-tweet-text tweet-text\").text\n",
    "    print('-----------')\n",
    "    print(mars_weather)"
   ]
  },
  {
   "cell_type": "code",
   "execution_count": 13,
   "metadata": {},
   "outputs": [
    {
     "data": {
      "text/plain": [
       "[                      0                              1\n",
       " 0  Equatorial Diameter:                       6,792 km\n",
       " 1       Polar Diameter:                       6,752 km\n",
       " 2                 Mass:  6.42 x 10^23 kg (10.7% Earth)\n",
       " 3                Moons:            2 (Phobos & Deimos)\n",
       " 4       Orbit Distance:       227,943,824 km (1.52 AU)\n",
       " 5         Orbit Period:           687 days (1.9 years)\n",
       " 6  Surface Temperature:                  -153 to 20 °C\n",
       " 7         First Record:              2nd millennium BC\n",
       " 8          Recorded By:           Egyptian astronomers]"
      ]
     },
     "execution_count": 13,
     "metadata": {},
     "output_type": "execute_result"
    }
   ],
   "source": [
    "# Visit the Mars Facts webpage here and use Pandas to scrape the table containing facts\n",
    "executable_path = {'executable_path': '/usr/local/bin/chromedriver'}\n",
    "browser = Browser('chrome', **executable_path, headless=False)\n",
    "url = 'https://space-facts.com/mars/'\n",
    "# Use Pandas to convert the data to a HTML table string`\n",
    "tables = pd.read_html(url)\n",
    "tables"
   ]
  },
  {
   "cell_type": "code",
   "execution_count": 14,
   "metadata": {},
   "outputs": [
    {
     "data": {
      "text/html": [
       "<div>\n",
       "<style>\n",
       "    .dataframe thead tr:only-child th {\n",
       "        text-align: right;\n",
       "    }\n",
       "\n",
       "    .dataframe thead th {\n",
       "        text-align: left;\n",
       "    }\n",
       "\n",
       "    .dataframe tbody tr th {\n",
       "        vertical-align: top;\n",
       "    }\n",
       "</style>\n",
       "<table border=\"1\" class=\"dataframe\">\n",
       "  <thead>\n",
       "    <tr style=\"text-align: right;\">\n",
       "      <th></th>\n",
       "      <th>0</th>\n",
       "      <th>1</th>\n",
       "    </tr>\n",
       "  </thead>\n",
       "  <tbody>\n",
       "    <tr>\n",
       "      <th>0</th>\n",
       "      <td>Equatorial Diameter:</td>\n",
       "      <td>6,792 km</td>\n",
       "    </tr>\n",
       "    <tr>\n",
       "      <th>1</th>\n",
       "      <td>Polar Diameter:</td>\n",
       "      <td>6,752 km</td>\n",
       "    </tr>\n",
       "    <tr>\n",
       "      <th>2</th>\n",
       "      <td>Mass:</td>\n",
       "      <td>6.42 x 10^23 kg (10.7% Earth)</td>\n",
       "    </tr>\n",
       "    <tr>\n",
       "      <th>3</th>\n",
       "      <td>Moons:</td>\n",
       "      <td>2 (Phobos &amp; Deimos)</td>\n",
       "    </tr>\n",
       "    <tr>\n",
       "      <th>4</th>\n",
       "      <td>Orbit Distance:</td>\n",
       "      <td>227,943,824 km (1.52 AU)</td>\n",
       "    </tr>\n",
       "    <tr>\n",
       "      <th>5</th>\n",
       "      <td>Orbit Period:</td>\n",
       "      <td>687 days (1.9 years)</td>\n",
       "    </tr>\n",
       "    <tr>\n",
       "      <th>6</th>\n",
       "      <td>Surface Temperature:</td>\n",
       "      <td>-153 to 20 °C</td>\n",
       "    </tr>\n",
       "    <tr>\n",
       "      <th>7</th>\n",
       "      <td>First Record:</td>\n",
       "      <td>2nd millennium BC</td>\n",
       "    </tr>\n",
       "    <tr>\n",
       "      <th>8</th>\n",
       "      <td>Recorded By:</td>\n",
       "      <td>Egyptian astronomers</td>\n",
       "    </tr>\n",
       "  </tbody>\n",
       "</table>\n",
       "</div>"
      ],
      "text/plain": [
       "                      0                              1\n",
       "0  Equatorial Diameter:                       6,792 km\n",
       "1       Polar Diameter:                       6,752 km\n",
       "2                 Mass:  6.42 x 10^23 kg (10.7% Earth)\n",
       "3                Moons:            2 (Phobos & Deimos)\n",
       "4       Orbit Distance:       227,943,824 km (1.52 AU)\n",
       "5         Orbit Period:           687 days (1.9 years)\n",
       "6  Surface Temperature:                  -153 to 20 °C\n",
       "7         First Record:              2nd millennium BC\n",
       "8          Recorded By:           Egyptian astronomers"
      ]
     },
     "execution_count": 14,
     "metadata": {},
     "output_type": "execute_result"
    }
   ],
   "source": [
    "df = tables [0]\n",
    "df"
   ]
  },
  {
   "cell_type": "code",
   "execution_count": 15,
   "metadata": {},
   "outputs": [
    {
     "data": {
      "text/plain": [
       "'<table border=\"1\" class=\"dataframe\">\\n  <thead>\\n    <tr style=\"text-align: right;\">\\n      <th>0</th>\\n      <th>1</th>\\n    </tr>\\n  </thead>\\n  <tbody>\\n    <tr>\\n      <td>Equatorial Diameter:</td>\\n      <td>6,792 km</td>\\n    </tr>\\n    <tr>\\n      <td>Polar Diameter:</td>\\n      <td>6,752 km</td>\\n    </tr>\\n    <tr>\\n      <td>Mass:</td>\\n      <td>6.42 x 10^23 kg (10.7% Earth)</td>\\n    </tr>\\n    <tr>\\n      <td>Moons:</td>\\n      <td>2 (Phobos &amp; Deimos)</td>\\n    </tr>\\n    <tr>\\n      <td>Orbit Distance:</td>\\n      <td>227,943,824 km (1.52 AU)</td>\\n    </tr>\\n    <tr>\\n      <td>Orbit Period:</td>\\n      <td>687 days (1.9 years)</td>\\n    </tr>\\n    <tr>\\n      <td>Surface Temperature:</td>\\n      <td>-153 to 20 °C</td>\\n    </tr>\\n    <tr>\\n      <td>First Record:</td>\\n      <td>2nd millennium BC</td>\\n    </tr>\\n    <tr>\\n      <td>Recorded By:</td>\\n      <td>Egyptian astronomers</td>\\n    </tr>\\n  </tbody>\\n</table>'"
      ]
     },
     "execution_count": 15,
     "metadata": {},
     "output_type": "execute_result"
    }
   ],
   "source": [
    "html = df.to_html(index=False)\n",
    "html"
   ]
  },
  {
   "cell_type": "code",
   "execution_count": 16,
   "metadata": {},
   "outputs": [
    {
     "data": {
      "text/plain": [
       "'<table border=\"1\" class=\"dataframe\">  <thead>    <tr style=\"text-align: right;\">      <th>0</th>      <th>1</th>    </tr>  </thead>  <tbody>    <tr>      <td>Equatorial Diameter:</td>      <td>6,792 km</td>    </tr>    <tr>      <td>Polar Diameter:</td>      <td>6,752 km</td>    </tr>    <tr>      <td>Mass:</td>      <td>6.42 x 10^23 kg (10.7% Earth)</td>    </tr>    <tr>      <td>Moons:</td>      <td>2 (Phobos &amp; Deimos)</td>    </tr>    <tr>      <td>Orbit Distance:</td>      <td>227,943,824 km (1.52 AU)</td>    </tr>    <tr>      <td>Orbit Period:</td>      <td>687 days (1.9 years)</td>    </tr>    <tr>      <td>Surface Temperature:</td>      <td>-153 to 20 °C</td>    </tr>    <tr>      <td>First Record:</td>      <td>2nd millennium BC</td>    </tr>    <tr>      <td>Recorded By:</td>      <td>Egyptian astronomers</td>    </tr>  </tbody></table>'"
      ]
     },
     "execution_count": 16,
     "metadata": {},
     "output_type": "execute_result"
    }
   ],
   "source": [
    "fact_html = html.replace(\"\\n\", \"\")\n",
    "fact_html"
   ]
  },
  {
   "cell_type": "code",
   "execution_count": 19,
   "metadata": {},
   "outputs": [],
   "source": [
    "# Visit the USGS Astrogeology site to obtain high resolution images for each of Mar's hemispheres.\n",
    "# Define a function to get img_url and title\n",
    "def hemisphere_info():\n",
    "    executable_path = {'executable_path': '/usr/local/bin/chromedriver'}\n",
    "    browser = Browser('chrome', **executable_path, headless=False)\n",
    "    url = 'https://astrogeology.usgs.gov/search/results?q=hemisphere+enhanced&k1=target&v1=Mars'\n",
    "    browser.visit(url)\n",
    "    \n",
    "    # HTML object\n",
    "    html = browser.html \n",
    "    # Parse HTML with Beautiful Soup\n",
    "    soup = BeautifulSoup(html, 'html.parser')\n",
    "    individual_links= soup.find_all('div', class_= \"description\")\n",
    "    \n",
    "    title_list =[]\n",
    "    link_list = []\n",
    "    \n",
    "    # Make a for loop to get hemisphere title\n",
    "    for individual_link in individual_links:\n",
    "        link = individual_link.a[\"href\"]\n",
    "        href = \"https://astrogeology.usgs.gov/\" + link\n",
    "        link_list.append(href)\n",
    "    \n",
    "        title= individual_link.h3.text\n",
    "        clean_title = title.replace(\"Enhanced\", \"\")\n",
    "        title_list.append(clean_title)\n",
    "    \n",
    "    hemisphere_img_urls = []\n",
    "    dic ={}\n",
    "    \n",
    "    # Make a for loop to get hemisphere_img_url \n",
    "    for i in range (len(link_list)):\n",
    "            executable_path = {'executable_path': '/usr/local/bin/chromedriver'}\n",
    "            browser = Browser('chrome', **executable_path, headless=False)\n",
    "            url = link_list[i]\n",
    "            browser.visit(url)\n",
    "            image_link = browser.find_link_by_text(\"Sample\")\n",
    "            full_image = image_link[\"href\"]\n",
    "            \n",
    "            # Create a render list of dictionary for future html\n",
    "            \n",
    "            \n",
    "            dic= {\n",
    "                  \"title_list\": title_list[i],\n",
    "                  \"hemisphere_img_url\" : full_image,\n",
    "                 }\n",
    "            hemisphere_img_urls.append(dic)\n",
    "    \n",
    "    return hemisphere_img_urls"
   ]
  },
  {
   "cell_type": "code",
   "execution_count": 20,
   "metadata": {
    "scrolled": true
   },
   "outputs": [
    {
     "data": {
      "text/plain": [
       "[{'hemisphere_img_url': 'http://astropedia.astrogeology.usgs.gov/download/Mars/Viking/cerberus_enhanced.tif/full.jpg',\n",
       "  'title_list': 'Cerberus Hemisphere '},\n",
       " {'hemisphere_img_url': 'http://astropedia.astrogeology.usgs.gov/download/Mars/Viking/schiaparelli_enhanced.tif/full.jpg',\n",
       "  'title_list': 'Schiaparelli Hemisphere '},\n",
       " {'hemisphere_img_url': 'http://astropedia.astrogeology.usgs.gov/download/Mars/Viking/syrtis_major_enhanced.tif/full.jpg',\n",
       "  'title_list': 'Syrtis Major Hemisphere '},\n",
       " {'hemisphere_img_url': 'http://astropedia.astrogeology.usgs.gov/download/Mars/Viking/valles_marineris_enhanced.tif/full.jpg',\n",
       "  'title_list': 'Valles Marineris Hemisphere '}]"
      ]
     },
     "execution_count": 20,
     "metadata": {},
     "output_type": "execute_result"
    }
   ],
   "source": [
    "# Assign a variable, image_urls, to the function, hemisphere_info\n",
    "hemisphere_img_urls=hemisphere_info()\n",
    "hemisphere_img_urls"
   ]
  },
  {
   "cell_type": "markdown",
   "metadata": {},
   "source": [
    "# Step 2 - MongoDB and Flask Application\n",
    "\n",
    "Use MongoDB with Flask templating to create a new HTML page that displays all of the information that was scraped from the URLs above.\n",
    "\n",
    "\n",
    "Start by converting your Jupyter notebook into a Python script called scrape_mars.py with a function called scrape that will execute all of your scraping code from above and return one Python dictionary containing all of the scraped data.\n",
    "\n",
    "Next, create a route called /scrape that will import your scrape_mars.py script and call your scrape function.\n",
    "\n",
    "\n",
    "Store the return value in Mongo as a Python dictionary.\n",
    "\n",
    "\n",
    "Create a root route / that will query your Mongo database and pass the mars data into an HTML template to display the data.\n",
    "Create a template HTML file called index.html that will take the mars data dictionary and display all of the data in the appropriate HTML elements. Use the following as a guide for what the final product should look like, but feel free to create your own design."
   ]
  }
 ],
 "metadata": {
  "kernelspec": {
   "display_name": "Python 3",
   "language": "python",
   "name": "python3"
  },
  "language_info": {
   "codemirror_mode": {
    "name": "ipython",
    "version": 3
   },
   "file_extension": ".py",
   "mimetype": "text/x-python",
   "name": "python",
   "nbconvert_exporter": "python",
   "pygments_lexer": "ipython3",
   "version": "3.6.3"
  }
 },
 "nbformat": 4,
 "nbformat_minor": 2
}
