{
 "cells": [
  {
   "cell_type": "markdown",
   "metadata": {},
   "source": [
    "# Trend Analysis\n",
    "A. Based on the 1st fig (file:\"Sentiments Analysis.png\") , more tweets in CBS labeled blue are positive and more tweets in Fox labeled in purple are negative.\n",
    "\n",
    "B. Based on the 2nd fig((file:\"Overall Media Sentiment.png\"), overall, BBC & CBS are sentimental positive while the other 3 medias are sentimental negative. \n",
    "\n",
    "C. Similar to trend 1, overal sentiment of CBS is the most postitive and that of Fox is the most negative."
   ]
  },
  {
   "cell_type": "markdown",
   "metadata": {},
   "source": [
    "\n",
    "# Instruction- News Mood\n",
    "\n",
    "In this assignment, you'll create a Python script to perform a sentiment analysis of the Twitter activity of various news oulets, and to present your findings visually.\n",
    "\n",
    "Your final output should provide a visualized summary of the sentiments expressed in Tweets sent out by the following news organizations: __BBC, CBS, CNN, Fox, and New York times__.\n",
    "\n",
    "![output_10_0.png](output_10_0.png)\n",
    "\n",
    "![output_13_1.png](output_13_1.png)\n",
    "\n",
    "The first plot will be and/or feature the following:\n",
    "\n",
    "* Be a scatter plot of sentiments of the last __100__ tweets sent out by each news organization, ranging from -1.0 to 1.0, where a score of 0 expresses a neutral sentiment, -1 the most negative sentiment possible, and +1 the most positive sentiment possible.\n",
    "* Each plot point will reflect the _compound_ sentiment of a tweet.\n",
    "* Sort each plot point by its relative timestamp.\n",
    "\n",
    "The second plot will be a bar plot visualizing the _overall_ sentiments of the last 100 tweets from each organization. For this plot, you will again aggregate the compound sentiments analyzed by VADER.\n",
    "\n",
    "The tools of the trade you will need for your task as a data analyst include the following: tweepy, pandas, matplotlib, and VADER.\n",
    "\n",
    "Your final Jupyter notebook must:\n",
    "\n",
    "* Pull last 100 tweets from each outlet.\n",
    "* Perform a sentiment analysis with the compound, positive, neutral, and negative scoring for each tweet. \n",
    "* Pull into a DataFrame the tweet's source acount, its text, its date, and its compound, positive, neutral, and negative sentiment scores.\n",
    "* Export the data in the DataFrame into a CSV file.\n",
    "* Save PNG images for each plot.\n",
    "\n",
    "As final considerations:\n",
    "\n",
    "* Use the Matplotlib libraries.\n",
    "* Include a written description of three observable trends based on the data. \n",
    "* Include proper labeling of your plots, including plot titles (with date of analysis) and axes labels.\n",
    "* Include an exported markdown version of your Notebook called  `README.md` in your GitHub repository.  \n"
   ]
  },
  {
   "cell_type": "code",
   "execution_count": 1,
   "metadata": {
    "collapsed": true
   },
   "outputs": [],
   "source": [
    "# Dependencies\n",
    "import tweepy\n",
    "import numpy as np\n",
    "import pandas as pd\n",
    "import json\n",
    "from datetime import datetime\n",
    "import matplotlib.pyplot as plt\n",
    "\n",
    "# Import and Initialize Sentiment Analyzer\n",
    "from vaderSentiment.vaderSentiment import SentimentIntensityAnalyzer\n",
    "analyzer = SentimentIntensityAnalyzer()\n",
    "\n",
    "# Twitter API Keys\n",
    "from config3 import (consumer_key, \n",
    "                    consumer_secret, \n",
    "                    access_token, \n",
    "                    access_token_secret)\n",
    "\n",
    "# Setup Tweepy API Authentication\n",
    "auth = tweepy.OAuthHandler(consumer_key, consumer_secret)\n",
    "auth.set_access_token(access_token, access_token_secret)\n",
    "api = tweepy.API(auth, parser=tweepy.parsers.JSONParser())"
   ]
  },
  {
   "cell_type": "code",
   "execution_count": 2,
   "metadata": {},
   "outputs": [],
   "source": [
    "# Define user data\n",
    "def  pulldataout(user):\n",
    "    \n",
    "    public_tweets = api.user_timeline(user, count = 100)  \n",
    "    compound_list=[]\n",
    "    for tweet in public_tweets:\n",
    "    \n",
    "        # Run Vader Analysis on each tweet\n",
    "        results = analyzer.polarity_scores(tweet[\"text\"])\n",
    "        compound = results[\"compound\"]        \n",
    "\n",
    "        # Add compound value     \n",
    "        compound_list.append(compound)    \n",
    "    \n",
    "    return compound_list"
   ]
  },
  {
   "cell_type": "code",
   "execution_count": 3,
   "metadata": {},
   "outputs": [],
   "source": [
    "# Target Search user\n",
    "target_users = [\"@BBC\", \"@CBS\", \"@CNN\",\n",
    "                \"@foxnews\", \"@nytimes\"]\n",
    "    \n",
    "sentiments=[]\n",
    "for user in target_users:\n",
    "    sentiments.append(pulldataout(user))\n",
    "    "
   ]
  },
  {
   "cell_type": "code",
   "execution_count": 4,
   "metadata": {},
   "outputs": [
    {
     "data": {
      "text/html": [
       "<div>\n",
       "<style>\n",
       "    .dataframe thead tr:only-child th {\n",
       "        text-align: right;\n",
       "    }\n",
       "\n",
       "    .dataframe thead th {\n",
       "        text-align: left;\n",
       "    }\n",
       "\n",
       "    .dataframe tbody tr th {\n",
       "        vertical-align: top;\n",
       "    }\n",
       "</style>\n",
       "<table border=\"1\" class=\"dataframe\">\n",
       "  <thead>\n",
       "    <tr style=\"text-align: right;\">\n",
       "      <th></th>\n",
       "      <th>BBC</th>\n",
       "      <th>CBS</th>\n",
       "      <th>CNN</th>\n",
       "      <th>Fox</th>\n",
       "      <th>NYT</th>\n",
       "    </tr>\n",
       "  </thead>\n",
       "  <tbody>\n",
       "    <tr>\n",
       "      <th>0</th>\n",
       "      <td>0.7783</td>\n",
       "      <td>0.2960</td>\n",
       "      <td>-0.8979</td>\n",
       "      <td>0.0000</td>\n",
       "      <td>0.0000</td>\n",
       "    </tr>\n",
       "    <tr>\n",
       "      <th>1</th>\n",
       "      <td>0.4926</td>\n",
       "      <td>0.0000</td>\n",
       "      <td>-0.1901</td>\n",
       "      <td>0.0000</td>\n",
       "      <td>0.0000</td>\n",
       "    </tr>\n",
       "    <tr>\n",
       "      <th>2</th>\n",
       "      <td>0.5719</td>\n",
       "      <td>0.6514</td>\n",
       "      <td>0.0571</td>\n",
       "      <td>0.5423</td>\n",
       "      <td>0.6369</td>\n",
       "    </tr>\n",
       "    <tr>\n",
       "      <th>3</th>\n",
       "      <td>0.0000</td>\n",
       "      <td>0.7088</td>\n",
       "      <td>0.1779</td>\n",
       "      <td>0.0000</td>\n",
       "      <td>0.0000</td>\n",
       "    </tr>\n",
       "    <tr>\n",
       "      <th>4</th>\n",
       "      <td>0.0000</td>\n",
       "      <td>-0.4939</td>\n",
       "      <td>0.0000</td>\n",
       "      <td>0.0000</td>\n",
       "      <td>-0.7430</td>\n",
       "    </tr>\n",
       "  </tbody>\n",
       "</table>\n",
       "</div>"
      ],
      "text/plain": [
       "      BBC     CBS     CNN     Fox     NYT\n",
       "0  0.7783  0.2960 -0.8979  0.0000  0.0000\n",
       "1  0.4926  0.0000 -0.1901  0.0000  0.0000\n",
       "2  0.5719  0.6514  0.0571  0.5423  0.6369\n",
       "3  0.0000  0.7088  0.1779  0.0000  0.0000\n",
       "4  0.0000 -0.4939  0.0000  0.0000 -0.7430"
      ]
     },
     "execution_count": 4,
     "metadata": {},
     "output_type": "execute_result"
    }
   ],
   "source": [
    "sentiments_df = pd.DataFrame({\"BBC\":sentiments[0], \n",
    "                                  \"CBS\":sentiments[1],\n",
    "                                  \"CNN\":sentiments[2],\n",
    "                                  \"Fox\":sentiments[3],\n",
    "                                  \"NYT\":sentiments[4]\n",
    "                                 })\n",
    "sentiments_df.head(5)"
   ]
  },
  {
   "cell_type": "code",
   "execution_count": 5,
   "metadata": {},
   "outputs": [
    {
     "data": {
      "image/png": "[encoded data removed]",
      "text/plain": [
       "<matplotlib.figure.Figure at 0x10acfb940>"
      ]
     },
     "metadata": {},
     "output_type": "display_data"
    }
   ],
   "source": [
    "# Generate plot\n",
    "\n",
    "BBC_dot = plt.scatter(sentiments_df.index+1, sentiments_df[\"BBC\"], color=\"red\", label=\"BBC\")\n",
    "CBS_dot = plt.scatter(sentiments_df.index+1, sentiments_df[\"CBS\"], color=\"blue\", label=\"CBS\")\n",
    "CNN_dot = plt.scatter(sentiments_df.index+1, sentiments_df[\"CNN\"], color=\"Green\", label=\"CNN\")\n",
    "Fox_dot = plt.scatter(sentiments_df.index+1, sentiments_df[\"Fox\"], color=\"purple\", label=\"Fox\")\n",
    "NYT_dot = plt.scatter(sentiments_df.index+1, sentiments_df[\"NYT\"], color=\"yellow\", label=\"NYT\")\n",
    "\n",
    "\n",
    "\n",
    "# Create a legend for our chart\n",
    "plt.legend(handles=[BBC_dot, CBS_dot, CNN_dot, Fox_dot,NYT_dot], bbox_to_anchor=(1.04,0), loc=\"lower left\", borderaxespad=0)\n",
    "plt.xlim(0-5, 100+5)\n",
    "plt.ylim(-1, 1)\n",
    "plt.title(\"Sentiments Analysis (2018/3/15)\")\n",
    "plt.grid()\n",
    "plt.xlabel(\"Tweets ago\")\n",
    "plt.ylabel(\"Tweet Polarity\")\n",
    "plt.savefig(\"Sentiments Analysis.png\")\n",
    "plt.show()"
   ]
  },
  {
   "cell_type": "code",
   "execution_count": 6,
   "metadata": {},
   "outputs": [
    {
     "data": {
      "text/html": [
       "<div>\n",
       "<style>\n",
       "    .dataframe thead tr:only-child th {\n",
       "        text-align: right;\n",
       "    }\n",
       "\n",
       "    .dataframe thead th {\n",
       "        text-align: left;\n",
       "    }\n",
       "\n",
       "    .dataframe tbody tr th {\n",
       "        vertical-align: top;\n",
       "    }\n",
       "</style>\n",
       "<table border=\"1\" class=\"dataframe\">\n",
       "  <thead>\n",
       "    <tr style=\"text-align: right;\">\n",
       "      <th></th>\n",
       "      <th>BBC</th>\n",
       "      <th>CBS</th>\n",
       "      <th>CNN</th>\n",
       "      <th>Fox</th>\n",
       "      <th>NYT</th>\n",
       "    </tr>\n",
       "  </thead>\n",
       "  <tbody>\n",
       "    <tr>\n",
       "      <th>0</th>\n",
       "      <td>0.13</td>\n",
       "      <td>0.32</td>\n",
       "      <td>-0.13</td>\n",
       "      <td>-0.15</td>\n",
       "      <td>-0.09</td>\n",
       "    </tr>\n",
       "  </tbody>\n",
       "</table>\n",
       "</div>"
      ],
      "text/plain": [
       "    BBC   CBS   CNN   Fox   NYT\n",
       "0  0.13  0.32 -0.13 -0.15 -0.09"
      ]
     },
     "execution_count": 6,
     "metadata": {},
     "output_type": "execute_result"
    }
   ],
   "source": [
    "Overall_list= []\n",
    "BBC_Overall= round(np.mean(sentiments_df[\"BBC\"]),2)\n",
    "CBS_Overall= round(np.mean(sentiments_df[\"CBS\"]),2)\n",
    "CNN_Overall= round(np.mean(sentiments_df[\"CNN\"]),2)\n",
    "Fox_Overall= round(np.mean(sentiments_df[\"Fox\"]),2)\n",
    "NYT_Overall= round(np.mean(sentiments_df[\"NYT\"]),2)\n",
    "\n",
    "\n",
    "Overall_list.append({\"BBC\":BBC_Overall, \n",
    "                     \"CBS\":CBS_Overall,\n",
    "                     \"CNN\":CNN_Overall,\n",
    "                     \"Fox\":Fox_Overall,\n",
    "                     \"NYT\":NYT_Overall })\n",
    "\n",
    "overall_df = pd.DataFrame.from_dict(Overall_list)\n",
    "overall_df\n"
   ]
  },
  {
   "cell_type": "code",
   "execution_count": 8,
   "metadata": {},
   "outputs": [
    {
     "data": {
      "image/png": "[encoded data removed]",
      "text/plain": [
       "<matplotlib.figure.Figure at 0x10ff77b00>"
      ]
     },
     "metadata": {},
     "output_type": "display_data"
    }
   ],
   "source": [
    "# Generate a bar by dataframe\n",
    "overall_df.plot.bar(color=['red', 'blue', 'green', 'purple', 'yellow'], alpha=1)\n",
    "plt.axhline(y=0, color='black', linestyle='-')\n",
    "plt.title(\"Overall Media Sentiment Based on Twitter (2018/3/15)\")\n",
    "plt.xlabel(\"Media\")\n",
    "plt.ylabel(\"Tweet Polarity\")\n",
    "plt.legend(loc = \"best\")\n",
    "tick_locations = [-0.2, -0.1, 0, 0.1, 0.2]\n",
    "plt.xticks(tick_locations, [\"BBC\", \"CBS\", \"CNN\", \"Fox\", \"NYT\"])\n",
    "plt.xlim(-0.25, 0.25)\n",
    "plt.ylim(-0.2, 0.4)\n",
    "plt.savefig(\"Overall Media Sentiment.png\")\n",
    "plt.show()\n",
    "# Reference from Activity\n",
    "# x_axis = np.arange(len(overall_df.columns))\n",
    "# tick_locations = [value+0.4 for value in x_axis]"
   ]
  },
  {
   "cell_type": "code",
   "execution_count": null,
   "metadata": {
    "collapsed": true
   },
   "outputs": [],
   "source": []
  },
  {
   "cell_type": "code",
   "execution_count": null,
   "metadata": {
    "collapsed": true
   },
   "outputs": [],
   "source": []
  },
  {
   "cell_type": "code",
   "execution_count": null,
   "metadata": {
    "collapsed": true
   },
   "outputs": [],
   "source": []
  }
 ],
 "metadata": {
  "kernelspec": {
   "display_name": "Python 3",
   "language": "python",
   "name": "python3"
  },
  "language_info": {
   "codemirror_mode": {
    "name": "ipython",
    "version": 3
   },
   "file_extension": ".py",
   "mimetype": "text/x-python",
   "name": "python",
   "nbconvert_exporter": "python",
   "pygments_lexer": "ipython3",
   "version": "3.6.3"
  }
 },
 "nbformat": 4,
 "nbformat_minor": 2
}
